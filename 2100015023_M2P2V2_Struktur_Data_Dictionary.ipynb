{
  "nbformat": 4,
  "nbformat_minor": 0,
  "metadata": {
    "colab": {
      "name": "2100015023_M2P2V2_Struktur_Data_Dictionary.ipynb",
      "provenance": []
    },
    "kernelspec": {
      "name": "python3",
      "display_name": "Python 3"
    },
    "language_info": {
      "name": "python"
    }
  },
  "cells": [
    {
      "cell_type": "markdown",
      "source": [
        "Nama : Robiah Al Adawiyah\n",
        "\n",
        "Nim : 2100015023"
      ],
      "metadata": {
        "id": "m5Mlyv3-2VHT"
      }
    },
    {
      "cell_type": "markdown",
      "source": [
        "# **Dictionary**\n",
        "\n",
        "Dictionary pada Python adalah kumpulan pasangan kunci-nilai (pair of key-value) yang bersifat tidak berurutan. Dictionary dapat digunakan untuk menyimpan data kecil hingga besar. Untuk mengakses datanya kita harus mengetahui kuncinya(key). Pada Python, dictionary didefinisikan dengan kurawal dan tambahan definisi berikut:\n",
        "\n",
        "*  Setiap elemen pair-value dipisahkan \n",
        "dengan koma(,)\n",
        "*   Key dan Value dipisahkan dengan titik dua(:)\n",
        "\n",
        "*   Key dan Volue dapat berupa tipe variabel/obyek apapun\n",
        "\n",
        "\n",
        "\n",
        "\n"
      ],
      "metadata": {
        "id": "SEbSrLz82dNb"
      }
    },
    {
      "cell_type": "code",
      "source": [
        "# contoh Dictionary\n",
        "D1 = {1:'Value','key':2}\n",
        "print(D1)"
      ],
      "metadata": {
        "colab": {
          "base_uri": "https://localhost:8080/"
        },
        "id": "Fh83kJ2J5Ma3",
        "outputId": "069a1a95-fbf6-4709-dc2e-690840ad795d"
      },
      "execution_count": null,
      "outputs": [
        {
          "output_type": "stream",
          "name": "stdout",
          "text": [
            "{1: 'Value', 'key': 2}\n"
          ]
        }
      ]
    },
    {
      "cell_type": "markdown",
      "source": [
        "**Latihan 1**"
      ],
      "metadata": {
        "id": "Ea-2n0gV5bSd"
      }
    },
    {
      "cell_type": "code",
      "source": [
        "# Buatlah struktur data dictionary kalian sendiri\n",
        "B4 = {1:'aku', 'dia':2, 3:'kamu'}\n",
        "print(B4)"
      ],
      "metadata": {
        "colab": {
          "base_uri": "https://localhost:8080/"
        },
        "id": "KzZepWAd5d4y",
        "outputId": "ed485f81-8e39-4230-f919-8aac21f43f32"
      },
      "execution_count": null,
      "outputs": [
        {
          "output_type": "stream",
          "name": "stdout",
          "text": [
            "{1: 'aku', 'dia': 2, 3: 'kamu'}\n"
          ]
        }
      ]
    },
    {
      "cell_type": "markdown",
      "source": [
        "**Memanggil Elemen berdasarkan key**"
      ],
      "metadata": {
        "id": "f2RMGE0f5pSd"
      }
    },
    {
      "cell_type": "code",
      "source": [
        "# Memanggil Elemen berdasarkan key\n",
        "print(\"D1['key'] = \", D1['key']);"
      ],
      "metadata": {
        "colab": {
          "base_uri": "https://localhost:8080/"
        },
        "id": "RYI7s8dK5kqE",
        "outputId": "2a9e4fe1-266c-4d0a-80d1-cabbc59c17fa"
      },
      "execution_count": null,
      "outputs": [
        {
          "output_type": "stream",
          "name": "stdout",
          "text": [
            "D1['key'] =  2\n"
          ]
        }
      ]
    },
    {
      "cell_type": "markdown",
      "source": [
        "Dictionary bukan termasuk dalam implementasi urutan(sequences), sehingga tidak bisa dipanggil dengan urutan indeks. Misalnya dalam contoh berikut dicoba dengan indeks 2, tetapi menghasilkan error(keyError)karena tidak ada kunci(key) 2:"
      ],
      "metadata": {
        "id": "eRzu8yWp5_9O"
      }
    },
    {
      "cell_type": "code",
      "source": [
        "# hasil error\n",
        "print(\"D1[2]= \", D1[2]);"
      ],
      "metadata": {
        "colab": {
          "base_uri": "https://localhost:8080/",
          "height": 183
        },
        "id": "PB98Bi4_6cph",
        "outputId": "135f543d-4729-40fe-d5ac-d29a2533df59"
      },
      "execution_count": null,
      "outputs": [
        {
          "output_type": "error",
          "ename": "KeyError",
          "evalue": "ignored",
          "traceback": [
            "\u001b[0;31m---------------------------------------------------------------------------\u001b[0m",
            "\u001b[0;31mKeyError\u001b[0m                                  Traceback (most recent call last)",
            "\u001b[0;32m<ipython-input-5-5acf1fe5ba6d>\u001b[0m in \u001b[0;36m<module>\u001b[0;34m()\u001b[0m\n\u001b[1;32m      1\u001b[0m \u001b[0;31m# hasil error\u001b[0m\u001b[0;34m\u001b[0m\u001b[0;34m\u001b[0m\u001b[0;34m\u001b[0m\u001b[0m\n\u001b[0;32m----> 2\u001b[0;31m \u001b[0mprint\u001b[0m\u001b[0;34m(\u001b[0m\u001b[0;34m\"D1[2]= \"\u001b[0m\u001b[0;34m,\u001b[0m \u001b[0mD1\u001b[0m\u001b[0;34m[\u001b[0m\u001b[0;36m2\u001b[0m\u001b[0;34m]\u001b[0m\u001b[0;34m)\u001b[0m\u001b[0;34m;\u001b[0m\u001b[0;34m\u001b[0m\u001b[0;34m\u001b[0m\u001b[0m\n\u001b[0m",
            "\u001b[0;31mKeyError\u001b[0m: 2"
          ]
        }
      ]
    },
    {
      "cell_type": "markdown",
      "source": [
        "**Latihan 2**"
      ],
      "metadata": {
        "id": "QsHxZ1pj6sxG"
      }
    },
    {
      "cell_type": "code",
      "source": [
        "# panggil salah satu key dan value pada dictionary yang kalian buat\n",
        "\n",
        "print(\"B4[3]= \", B4[3]);"
      ],
      "metadata": {
        "colab": {
          "base_uri": "https://localhost:8080/"
        },
        "id": "gjkjYBPx6waN",
        "outputId": "7fa72306-724c-4b61-fc28-c571b7551320"
      },
      "execution_count": null,
      "outputs": [
        {
          "output_type": "stream",
          "name": "stdout",
          "text": [
            "B4[3]=  kamu\n"
          ]
        }
      ]
    }
  ]
}