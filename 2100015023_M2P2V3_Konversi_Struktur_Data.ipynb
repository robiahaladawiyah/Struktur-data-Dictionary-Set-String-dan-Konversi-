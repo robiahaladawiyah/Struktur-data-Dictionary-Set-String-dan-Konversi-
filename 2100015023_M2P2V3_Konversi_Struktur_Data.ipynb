{
  "nbformat": 4,
  "nbformat_minor": 0,
  "metadata": {
    "colab": {
      "name": "2100015023_M2P2V3_Konversi Struktur Data.ipynb",
      "provenance": []
    },
    "kernelspec": {
      "name": "python3",
      "display_name": "Python 3"
    },
    "language_info": {
      "name": "python"
    }
  },
  "cells": [
    {
      "cell_type": "markdown",
      "source": [
        "Nama : Robiah Al Adawiyah\n",
        "\n",
        "Nim : 2100015023"
      ],
      "metadata": {
        "id": "UBhv6PzKDshY"
      }
    },
    {
      "cell_type": "markdown",
      "source": [
        "# **Konversi Struktur Data**\n",
        "\n",
        "\n",
        "\n",
        "1.   list(): untuk mengubah menjadi list\n",
        "2.   tuple(): untuk mengubah menjadi tuple \n",
        "\n",
        "3.   set(): untuk mengubah menjadi set\n",
        "4.   dict(): untuk mengubah menjadi dictionary\n",
        "\n",
        "\n",
        "\n",
        "\n"
      ],
      "metadata": {
        "id": "WB11ol6qDx0p"
      }
    },
    {
      "cell_type": "markdown",
      "source": [
        "# Mengkonversi tipe data list:"
      ],
      "metadata": {
        "id": "Csx7b4PhE0VY"
      }
    },
    {
      "cell_type": "code",
      "execution_count": null,
      "metadata": {
        "id": "ndvMBm_SDqe6"
      },
      "outputs": [],
      "source": [
        "# membuat 2 list\n",
        "L1 = [1, 2, 3, 4]\n",
        "L2 = [5, 6, 7, 8]"
      ]
    },
    {
      "cell_type": "code",
      "source": [
        "# mengkonversi struktur data list \n",
        "K_tuple = tuple(L1)\n",
        "K_set = set(L2)\n",
        "K_dict = dict(zip(L1,L2))\n",
        "# melihat data yang telah dikonversi \n",
        "print(K_tuple)\n",
        "print(K_set)\n",
        "print(K_dict)"
      ],
      "metadata": {
        "colab": {
          "base_uri": "https://localhost:8080/"
        },
        "id": "aEdD1H2XFDNV",
        "outputId": "5df9079d-9bd8-4092-bb75-217570dbd1b3"
      },
      "execution_count": null,
      "outputs": [
        {
          "output_type": "stream",
          "name": "stdout",
          "text": [
            "(1, 2, 3, 4)\n",
            "{8, 5, 6, 7}\n",
            "{1: 5, 2: 6, 3: 7, 4: 8}\n"
          ]
        }
      ]
    },
    {
      "cell_type": "markdown",
      "source": [
        "# Mengkonversi tipe data tuple "
      ],
      "metadata": {
        "id": "w01JDxCgFqKj"
      }
    },
    {
      "cell_type": "code",
      "source": [
        "# membuat dua tuple \n",
        "T1 = (1, 2, 3, 4)\n",
        "T2 = (5, 6, 7, 8)"
      ],
      "metadata": {
        "id": "lNurKf7AFuln"
      },
      "execution_count": null,
      "outputs": []
    },
    {
      "cell_type": "code",
      "source": [
        "# mengkonversi struktur data tuple\n",
        "K_list = list(T1)\n",
        "K_set = set(T2)\n",
        "K_dict = dict(zip(T1,T2))\n",
        "# melihat data yang telah dikonversi \n",
        "print(K_list)\n",
        "print(K_set)\n",
        "print(K_dict)"
      ],
      "metadata": {
        "colab": {
          "base_uri": "https://localhost:8080/"
        },
        "id": "-tpVi560F5kX",
        "outputId": "5fc75348-b590-4442-f67a-e89877fa84c2"
      },
      "execution_count": null,
      "outputs": [
        {
          "output_type": "stream",
          "name": "stdout",
          "text": [
            "[1, 2, 3, 4]\n",
            "{8, 5, 6, 7}\n",
            "{1: 5, 2: 6, 3: 7, 4: 8}\n"
          ]
        }
      ]
    },
    {
      "cell_type": "markdown",
      "source": [
        "# Mengkonversi tipe data set"
      ],
      "metadata": {
        "id": "_YP20xw8GOUS"
      }
    },
    {
      "cell_type": "code",
      "source": [
        "# membuat dua set \n",
        "S1 = {1, 2, 3, 4}\n",
        "S2 = {5, 6, 7, 8}"
      ],
      "metadata": {
        "id": "y5q8xHdzGSzd"
      },
      "execution_count": null,
      "outputs": []
    },
    {
      "cell_type": "code",
      "source": [
        "# mengkonversi struktur data set\n",
        "K_list = list(S1)\n",
        "K_tuple = tuple(S2)\n",
        "K_dict = dict(zip(S1,S2))\n",
        "# melihat data yang telah dikonversi \n",
        "print(K_list)\n",
        "print(K_tuple)\n",
        "print(K_dict)"
      ],
      "metadata": {
        "colab": {
          "base_uri": "https://localhost:8080/"
        },
        "id": "Uy7O82LoGnS9",
        "outputId": "a99f16bf-26e3-4be0-a347-ee2ca1400709"
      },
      "execution_count": null,
      "outputs": [
        {
          "output_type": "stream",
          "name": "stdout",
          "text": [
            "[1, 2, 3, 4]\n",
            "(8, 5, 6, 7)\n",
            "{1: 8, 2: 5, 3: 6, 4: 7}\n"
          ]
        }
      ]
    },
    {
      "cell_type": "markdown",
      "source": [
        "# Mengkonversi tipe data dictionary"
      ],
      "metadata": {
        "id": "U3Nf5roSHL3O"
      }
    },
    {
      "cell_type": "code",
      "source": [
        "# membuat dictionary \n",
        "D = {\n",
        "    \"nama\": \"andi\",\n",
        "     \"alamat\":\"yogyakarta\",\n",
        "     \"nama\": 20\n",
        "}"
      ],
      "metadata": {
        "id": "5SXbdM0vHRA-"
      },
      "execution_count": null,
      "outputs": []
    },
    {
      "cell_type": "code",
      "source": [
        "# mengkonversi struktur data set\n",
        "K_list = list(D.keys())\n",
        "K_tuple = tuple(D.values())\n",
        "K_set = set(D.keys())\n",
        "# melihat data yang telah dikonversi \n",
        "print(K_list)\n",
        "print(K_tuple)\n",
        "print(K_set)"
      ],
      "metadata": {
        "colab": {
          "base_uri": "https://localhost:8080/"
        },
        "id": "zeTVOEk6HpKz",
        "outputId": "7e8ad8d4-245f-4e94-b4fb-1ea68e2d1cc9"
      },
      "execution_count": null,
      "outputs": [
        {
          "output_type": "stream",
          "name": "stdout",
          "text": [
            "['nama', 'alamat']\n",
            "(20, 'yogyakarta')\n",
            "{'alamat', 'nama'}\n"
          ]
        }
      ]
    },
    {
      "cell_type": "markdown",
      "source": [
        "**Latihan**"
      ],
      "metadata": {
        "id": "rbMV0WknH89d"
      }
    },
    {
      "cell_type": "code",
      "source": [
        "# Lakukan konversi struktur data yang kalian buat pada notebook-notebook\n",
        "# sebelumnya menjadi list,tuple,set, dan dictionary(masing-masing satu) \n"
      ],
      "metadata": {
        "id": "UUdPkd7NH_ba"
      },
      "execution_count": null,
      "outputs": []
    },
    {
      "cell_type": "code",
      "source": [
        "# membuat 2 list\n",
        "L3 = [4, 28, 3, 4, 11]\n",
        "L4 = [\"mangga\", 11, \"apel\", \"G\"]"
      ],
      "metadata": {
        "id": "1otRS0ItJIlY"
      },
      "execution_count": null,
      "outputs": []
    },
    {
      "cell_type": "code",
      "source": [
        "# mengkonversi struktur data list \n",
        "K_tuple = tuple(L3)\n",
        "K_set = set(L4)\n",
        "K_dict = dict(zip(L3,L4))\n",
        "# melihat data yang telah dikonversi \n",
        "print(K_tuple)\n",
        "print(K_set)\n",
        "print(K_dict)"
      ],
      "metadata": {
        "colab": {
          "base_uri": "https://localhost:8080/"
        },
        "id": "cbQSYUAnJPFs",
        "outputId": "6f76f2b1-3262-4698-c4c3-cae462293941"
      },
      "execution_count": null,
      "outputs": [
        {
          "output_type": "stream",
          "name": "stdout",
          "text": [
            "(4, 28, 3, 4, 11)\n",
            "{'G', 'apel', 11, 'mangga'}\n",
            "{4: 'G', 28: 11, 3: 'apel'}\n"
          ]
        }
      ]
    },
    {
      "cell_type": "code",
      "source": [
        "# membuat dua tuple \n",
        "T3 = (\"aku\",3.5, False, 2+3j)\n",
        "T5 = (3.5, \"kamu\", True, 3)"
      ],
      "metadata": {
        "id": "Jcwg5NveJZ7T"
      },
      "execution_count": null,
      "outputs": []
    },
    {
      "cell_type": "code",
      "source": [
        "# mengkonversi struktur data tuple\n",
        "K_list = list(T3)\n",
        "K_set = set(T5)\n",
        "K_dict = dict(zip(T3,T5))\n",
        "# melihat data yang telah dikonversi \n",
        "print(K_list)\n",
        "print(K_set)\n",
        "print(K_dict)"
      ],
      "metadata": {
        "colab": {
          "base_uri": "https://localhost:8080/"
        },
        "id": "Ahl-x-lpJs75",
        "outputId": "d3aadabe-527d-4888-ed76-c599874bceb2"
      },
      "execution_count": null,
      "outputs": [
        {
          "output_type": "stream",
          "name": "stdout",
          "text": [
            "['aku', 3.5, False, (2+3j)]\n",
            "{3, True, 3.5, 'kamu'}\n",
            "{'aku': 3.5, 3.5: 'kamu', False: True, (2+3j): 3}\n"
          ]
        }
      ]
    },
    {
      "cell_type": "code",
      "source": [
        "# membuat dua set \n",
        "S2 = {4.7, \"aku\", False, 1+2j}\n",
        "S3 = {\"aku\", 4.7, 3+2j,\"aku\", True, 4.7}"
      ],
      "metadata": {
        "id": "pCXlhgmUKAyu"
      },
      "execution_count": null,
      "outputs": []
    },
    {
      "cell_type": "code",
      "source": [
        "# mengkonversi struktur data set\n",
        "K_list = list(S2)\n",
        "K_tuple = tuple(S3)\n",
        "K_dict = dict(zip(S2,S3))\n",
        "# melihat data yang telah dikonversi \n",
        "print(K_list)\n",
        "print(K_tuple)\n",
        "print(K_dict)"
      ],
      "metadata": {
        "colab": {
          "base_uri": "https://localhost:8080/"
        },
        "id": "wLbLX2m2KOFA",
        "outputId": "f18f3b48-60df-440c-9a68-43f5c6a63d23"
      },
      "execution_count": null,
      "outputs": [
        {
          "output_type": "stream",
          "name": "stdout",
          "text": [
            "[False, 'aku', 4.7, (1+2j)]\n",
            "((3+2j), 'aku', 4.7, True)\n",
            "{False: (3+2j), 'aku': 'aku', 4.7: 4.7, (1+2j): True}\n"
          ]
        }
      ]
    },
    {
      "cell_type": "code",
      "source": [
        "# membuat dictionary\n",
        "B4 = {1:'aku', 'dia':2, 3:'kamu'}"
      ],
      "metadata": {
        "id": "sSZnd0TBKXLH"
      },
      "execution_count": null,
      "outputs": []
    },
    {
      "cell_type": "code",
      "source": [
        "# mengkonversi struktur data set\n",
        "K_list = list(B4.keys())\n",
        "K_tuple = tuple(B4.values())\n",
        "K_set = set(B4.keys())\n",
        "# melihat data yang telah dikonversi \n",
        "print(K_list)\n",
        "print(K_tuple)\n",
        "print(K_set)"
      ],
      "metadata": {
        "colab": {
          "base_uri": "https://localhost:8080/"
        },
        "id": "oYAPoLQALCoI",
        "outputId": "4a8c10de-eb9e-4143-f091-a926df0ccdee"
      },
      "execution_count": null,
      "outputs": [
        {
          "output_type": "stream",
          "name": "stdout",
          "text": [
            "[1, 'dia', 3]\n",
            "('aku', 2, 'kamu')\n",
            "{3, 1, 'dia'}\n"
          ]
        }
      ]
    }
  ]
}