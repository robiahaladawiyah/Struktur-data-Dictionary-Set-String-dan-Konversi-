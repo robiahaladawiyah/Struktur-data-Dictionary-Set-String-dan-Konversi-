{
  "nbformat": 4,
  "nbformat_minor": 0,
  "metadata": {
    "colab": {
      "name": "2100015023_M2P2V4_Struktur_Data_String.ipynb",
      "provenance": [],
      "collapsed_sections": []
    },
    "kernelspec": {
      "name": "python3",
      "display_name": "Python 3"
    },
    "language_info": {
      "name": "python"
    }
  },
  "cells": [
    {
      "cell_type": "markdown",
      "source": [
        "Nama : Robiah Al Adawiyah \n",
        "\n",
        "Nim : 2100015023"
      ],
      "metadata": {
        "id": "QTWVo3GGuJw_"
      }
    },
    {
      "cell_type": "markdown",
      "source": [
        "# **String**\n",
        "\n",
        "String di deklarasikan dengan di apit oleh tanda petik."
      ],
      "metadata": {
        "id": "zJv8xeM6MzOt"
      }
    },
    {
      "cell_type": "code",
      "execution_count": null,
      "metadata": {
        "colab": {
          "base_uri": "https://localhost:8080/"
        },
        "id": "O5XoLkVTL_12",
        "outputId": "60b2aab2-ce99-40eb-aa8f-477b550adba2"
      },
      "outputs": [
        {
          "output_type": "stream",
          "name": "stdout",
          "text": [
            "Hello world!\n"
          ]
        }
      ],
      "source": [
        "# menampilkan string dengan fungsi print()\n",
        "print(\"Hello world!\")"
      ]
    },
    {
      "cell_type": "code",
      "source": [
        "# membuat variabel bertipe string \n",
        "A = \"Belajar struktur data string\"\n",
        "print(A)"
      ],
      "metadata": {
        "colab": {
          "base_uri": "https://localhost:8080/"
        },
        "id": "d6pa9mvnNLOn",
        "outputId": "7adf70ba-7af5-454b-ab92-b6c83b7651fd"
      },
      "execution_count": null,
      "outputs": [
        {
          "output_type": "stream",
          "name": "stdout",
          "text": [
            "Belajar struktur data string\n"
          ]
        }
      ]
    },
    {
      "cell_type": "code",
      "source": [
        "# membuat variabel string multi-line dengan 3 tanda petik\n",
        "B = \"\"\"Belajar Python\n",
        "pejuang data 3.0\n",
        "PSDS\n",
        "String\"\"\"\n",
        "print(B)"
      ],
      "metadata": {
        "colab": {
          "base_uri": "https://localhost:8080/"
        },
        "id": "wPs2YtOYNVi1",
        "outputId": "131ebb83-0606-4a03-e303-7a0d0697b0a5"
      },
      "execution_count": null,
      "outputs": [
        {
          "output_type": "stream",
          "name": "stdout",
          "text": [
            "Belajar Python\n",
            "pejuang data 3.0\n",
            "PSDS\n",
            "String\n"
          ]
        }
      ]
    },
    {
      "cell_type": "code",
      "source": [
        "# menampilkan karater tertentu dalam string \n",
        "print(A[2])"
      ],
      "metadata": {
        "colab": {
          "base_uri": "https://localhost:8080/"
        },
        "id": "acb-DJjKNpLO",
        "outputId": "acce07d9-50dd-42cb-fd7f-1067815fb1d3"
      },
      "execution_count": null,
      "outputs": [
        {
          "output_type": "stream",
          "name": "stdout",
          "text": [
            "l\n"
          ]
        }
      ]
    },
    {
      "cell_type": "code",
      "source": [
        "# slicing pada string\n",
        "A = \"Belajar struktur data string\"\n",
        "print(A[:5])\n",
        "print(A[3:])\n",
        "print(A[-5:])\n",
        "print(A[4:9])"
      ],
      "metadata": {
        "colab": {
          "base_uri": "https://localhost:8080/"
        },
        "id": "7Ree3EUsNy2A",
        "outputId": "414bd460-69ad-44c0-c6ef-2894ffe5e148"
      },
      "execution_count": null,
      "outputs": [
        {
          "output_type": "stream",
          "name": "stdout",
          "text": [
            "Belaj\n",
            "ajar struktur data string\n",
            "tring\n",
            "jar s\n"
          ]
        }
      ]
    },
    {
      "cell_type": "markdown",
      "source": [
        "**Latihan 1**"
      ],
      "metadata": {
        "id": "FSF54nCeOSsf"
      }
    },
    {
      "cell_type": "code",
      "source": [
        "# buatlah variabel string lalu lakukan slicing dengan menghilangkan karakter pertama dan terakhir \n",
        "C = \"Matematika tidak semenyenangkan itu\"\n",
        "print(C)"
      ],
      "metadata": {
        "id": "vQNMsm46OWxM",
        "colab": {
          "base_uri": "https://localhost:8080/"
        },
        "outputId": "7910fac2-4290-4ca5-ea83-6cae176b9d06"
      },
      "execution_count": null,
      "outputs": [
        {
          "output_type": "stream",
          "name": "stdout",
          "text": [
            "Matematika tidak semenyenangkan itu\n"
          ]
        }
      ]
    },
    {
      "cell_type": "code",
      "source": [
        "C = \"Matematika tidak semenyenangkan itu\"\n",
        "print(C[1:34])"
      ],
      "metadata": {
        "colab": {
          "base_uri": "https://localhost:8080/"
        },
        "id": "mpnS28qUb1OL",
        "outputId": "1a417bf6-5fdc-4159-9b2d-f7beeeab35b0"
      },
      "execution_count": null,
      "outputs": [
        {
          "output_type": "stream",
          "name": "stdout",
          "text": [
            "atematika tidak semenyenangkan it\n"
          ]
        }
      ]
    },
    {
      "cell_type": "markdown",
      "source": [
        "# Memodifikasi String"
      ],
      "metadata": {
        "id": "W5GsCrmgOhpN"
      }
    },
    {
      "cell_type": "code",
      "source": [
        "# upper() #Mengubah semua karakter pada string menjadi huruf besar.\n",
        "A.upper()"
      ],
      "metadata": {
        "id": "k4E0W6p8Oms7",
        "colab": {
          "base_uri": "https://localhost:8080/",
          "height": 35
        },
        "outputId": "5355679a-79d2-42eb-be1d-4c663c5fb24b"
      },
      "execution_count": null,
      "outputs": [
        {
          "output_type": "execute_result",
          "data": {
            "text/plain": [
              "'BELAJAR STRUKTUR DATA STRING'"
            ],
            "application/vnd.google.colaboratory.intrinsic+json": {
              "type": "string"
            }
          },
          "metadata": {},
          "execution_count": 5
        }
      ]
    },
    {
      "cell_type": "code",
      "source": [
        "# lower() #Mengubah semua karakter pada string menjadi huruf kecil.\n",
        "A.lower()"
      ],
      "metadata": {
        "id": "TOecpGM9OwmP",
        "colab": {
          "base_uri": "https://localhost:8080/",
          "height": 35
        },
        "outputId": "bc6cd310-a3ff-4a48-d204-60fecc1daddf"
      },
      "execution_count": null,
      "outputs": [
        {
          "output_type": "execute_result",
          "data": {
            "text/plain": [
              "'belajar struktur data string'"
            ],
            "application/vnd.google.colaboratory.intrinsic+json": {
              "type": "string"
            }
          },
          "metadata": {},
          "execution_count": 6
        }
      ]
    },
    {
      "cell_type": "code",
      "source": [
        "# replace() #Mengubah sebuah karakter dengan karakter lain yang diinginkan.\n",
        "A.replace('l', 'd')"
      ],
      "metadata": {
        "id": "WF1KvC_iO5V4",
        "colab": {
          "base_uri": "https://localhost:8080/",
          "height": 35
        },
        "outputId": "7e0cc67c-03a7-495c-f021-76c27f507053"
      },
      "execution_count": null,
      "outputs": [
        {
          "output_type": "execute_result",
          "data": {
            "text/plain": [
              "'Bedajar struktur data string'"
            ],
            "application/vnd.google.colaboratory.intrinsic+json": {
              "type": "string"
            }
          },
          "metadata": {},
          "execution_count": 7
        }
      ]
    },
    {
      "cell_type": "code",
      "source": [
        "# split() #Membagi string ke substring(list) jika memiliki separator didalamnya. Separator dapat diganti dengan karakter lain.\n",
        "A.split()"
      ],
      "metadata": {
        "id": "CGC7RoE0O-5V",
        "colab": {
          "base_uri": "https://localhost:8080/"
        },
        "outputId": "a1db571b-2b1f-407b-fff8-dea38d75b48f"
      },
      "execution_count": null,
      "outputs": [
        {
          "output_type": "execute_result",
          "data": {
            "text/plain": [
              "['Belajar', 'struktur', 'data', 'string']"
            ]
          },
          "metadata": {},
          "execution_count": 10
        }
      ]
    },
    {
      "cell_type": "markdown",
      "source": [
        "# Menggabungkan String"
      ],
      "metadata": {
        "id": "44T3KrwJPFm8"
      }
    },
    {
      "cell_type": "code",
      "source": [
        "A = \"Belajar struktur data string\"\n",
        "B = \"pejuang data 3.0\"\n",
        "A +\" \"+ B"
      ],
      "metadata": {
        "id": "aqJFWo-MPKH3",
        "colab": {
          "base_uri": "https://localhost:8080/",
          "height": 35
        },
        "outputId": "704a6b4a-917d-44b1-8a35-b72015bb0402"
      },
      "execution_count": null,
      "outputs": [
        {
          "output_type": "execute_result",
          "data": {
            "text/plain": [
              "'Belajar struktur data string pejuang data 3.0'"
            ],
            "application/vnd.google.colaboratory.intrinsic+json": {
              "type": "string"
            }
          },
          "metadata": {},
          "execution_count": 9
        }
      ]
    },
    {
      "cell_type": "markdown",
      "source": [
        "**Latihan 2**"
      ],
      "metadata": {
        "id": "2S7Vm1aDPe-n"
      }
    },
    {
      "cell_type": "code",
      "source": [
        "# Ganti semua huruf vokal menjadi \"i\" pada string yang telah kalian buat pada latihan 1 "
      ],
      "metadata": {
        "id": "Iwljmk0GPjog"
      },
      "execution_count": null,
      "outputs": []
    },
    {
      "cell_type": "code",
      "source": [
        "C1 = C.replace(\"a\", \"i\")\n",
        "print(C1)"
      ],
      "metadata": {
        "colab": {
          "base_uri": "https://localhost:8080/"
        },
        "id": "IVqJmbOPbkEd",
        "outputId": "38258646-3f9d-4683-e5be-b88519e6753d"
      },
      "execution_count": null,
      "outputs": [
        {
          "output_type": "stream",
          "name": "stdout",
          "text": [
            "Mitemitiki tidik semenyeningkin itu\n"
          ]
        }
      ]
    },
    {
      "cell_type": "code",
      "source": [
        "C2 = C1.replace(\"e\", \"i\")\n",
        "print(C2)"
      ],
      "metadata": {
        "colab": {
          "base_uri": "https://localhost:8080/"
        },
        "id": "E4Scsqjpbnb9",
        "outputId": "2f32f800-dc31-4f46-c8f6-a2b4a7b57a79"
      },
      "execution_count": null,
      "outputs": [
        {
          "output_type": "stream",
          "name": "stdout",
          "text": [
            "Mitimitiki tidik siminyiningkin itu\n"
          ]
        }
      ]
    },
    {
      "cell_type": "code",
      "source": [
        "C3 = C2.replace(\"u\", \"i\")\n",
        "print(C3)"
      ],
      "metadata": {
        "colab": {
          "base_uri": "https://localhost:8080/"
        },
        "id": "oQShYzQFbpih",
        "outputId": "899a37fc-a5ac-43a3-c8dc-42a55422e048"
      },
      "execution_count": null,
      "outputs": [
        {
          "output_type": "stream",
          "name": "stdout",
          "text": [
            "Mitimitiki tidik siminyiningkin iti\n"
          ]
        }
      ]
    }
  ]
}